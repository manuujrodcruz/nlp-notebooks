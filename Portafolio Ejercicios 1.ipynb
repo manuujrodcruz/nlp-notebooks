{
 "cells": [
  {
   "cell_type": "markdown",
   "id": "d7e08f68",
   "metadata": {},
   "source": [
    "<div style=\"background:#5D6D7E;padding:20px;color:#ffffff;margin-top:10px;\">\n",
    "\n",
    "# NLP - Portafolio de Ejercicios 1\n",
    "\n",
    "## Profesora: Lisibonny Beato\n",
    "### Período 3-2024-2025</div>\n"
   ]
  },
  {
   "cell_type": "code",
   "execution_count": 8,
   "id": "cebb0323",
   "metadata": {},
   "outputs": [],
   "source": [
    "# Importando algunas librerias\n",
    "\n",
    "import numpy as np\n",
    "import pandas as pd\n",
    "import matplotlib.pyplot as plt\n",
    "import seaborn as sns\n",
    "import nltk\n",
    "from nltk.corpus import names, wordnet "
   ]
  },
  {
   "cell_type": "markdown",
   "id": "e8ebd3b5",
   "metadata": {},
   "source": [
    "## 1. Recolección de datos\n",
    "### Puntuación máxima de la tarea: 1\n",
    "#### Investigue en detalle sobre el corpus webtext de NLTK. Elija un archivo de dicho corpus para trabajar los siguientes puntos y explique en detalle lo que contiene y el motivo de su elección. "
   ]
  },
  {
   "cell_type": "code",
   "execution_count": null,
   "id": "ac2907f8",
   "metadata": {},
   "outputs": [],
   "source": []
  },
  {
   "cell_type": "markdown",
   "id": "1f70b865",
   "metadata": {},
   "source": [
    "<div style=\"background:#FFFFE0;padding:20px;color:#000000;margin-top:10px;\">\n",
    "Utilice esta celda para colocar comentarios en el notebook, cuando lo estime necesario. Copiela varias veces donde considere.\n",
    "</div>"
   ]
  },
  {
   "cell_type": "markdown",
   "id": "36d2ba20",
   "metadata": {},
   "source": [
    "## 2. Descripción y exploración de datos\n",
    "### Puntuación máxima de la tarea: 1\n",
    "#### Utilizando pandas realice distintas descriptivas y exploraciones sobre los textos y comente acerca de sus hallazgos"
   ]
  },
  {
   "cell_type": "code",
   "execution_count": null,
   "id": "44dc13eb",
   "metadata": {},
   "outputs": [],
   "source": []
  },
  {
   "cell_type": "markdown",
   "id": "9d803e21",
   "metadata": {},
   "source": [
    "## 3. Limpieza de datos\n",
    "### Puntuación máxima de la tarea: 2\n",
    "#### Investigue y aplique distintas técnicas de limpieza para el conjunto de textos  y explique las razones de la aplicación de cada una de estas"
   ]
  },
  {
   "cell_type": "code",
   "execution_count": null,
   "id": "4223992e",
   "metadata": {},
   "outputs": [],
   "source": []
  },
  {
   "cell_type": "markdown",
   "id": "68574439",
   "metadata": {},
   "source": [
    "## 4. Contando palabras por su connotación emocional\n",
    "### Puntuación máxima de la tarea: 2\n",
    "#### Investigue acerca del corpus opinion_lexicon del NLTK y úselo para identificar las palabras con connotaciones positivas y negativas que aparecen en los textos. Siéntase libre de mostrar estadísticas y gráficos de su elección para ilustrar mejor este aspecto de sus datos (Ej. Totales for tipo, palabra más popular por tipo, entre otros)"
   ]
  },
  {
   "cell_type": "code",
   "execution_count": null,
   "id": "15f9e587",
   "metadata": {},
   "outputs": [],
   "source": []
  },
  {
   "cell_type": "markdown",
   "id": "c5ed094c",
   "metadata": {},
   "source": [
    "## 5. Wordnet\n",
    "### Puntuación máxima de la tarea: 4\n",
    "#### Investigue sobre el corpus Wordnet, disponible en NLTK. Desarrolle una función en Python que reciba  un conjunto de textos y, usando  Wordnet, devuelva en una única estructura de su elección, los diferentes synsets de cada palabra de acuerdo a la función que ejerce en el texto (sea sustantivo, verbo, adjetivo o adverbio). Pruebe dicha función sobre el conjunto de datos. "
   ]
  },
  {
   "cell_type": "code",
   "execution_count": null,
   "id": "1bc44ad4",
   "metadata": {},
   "outputs": [],
   "source": []
  }
 ],
 "metadata": {
  "kernelspec": {
   "display_name": "Python 3 (ipykernel)",
   "language": "python",
   "name": "python3"
  },
  "language_info": {
   "codemirror_mode": {
    "name": "ipython",
    "version": 3
   },
   "file_extension": ".py",
   "mimetype": "text/x-python",
   "name": "python",
   "nbconvert_exporter": "python",
   "pygments_lexer": "ipython3",
   "version": "3.11.0"
  }
 },
 "nbformat": 4,
 "nbformat_minor": 5
}
