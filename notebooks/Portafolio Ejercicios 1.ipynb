{
 "cells": [
  {
   "cell_type": "markdown",
   "id": "d7e08f68",
   "metadata": {},
   "source": [
    "<div style=\"background:#5D6D7E;padding:20px;color:#ffffff;margin-top:10px;\">\n",
    "\n",
    "# NLP - Portafolio de Ejercicios 1\n",
    "\n",
    "## Profesora: Lisibonny Beato\n",
    "### Período 3-2024-2025</div>\n"
   ]
  },
  {
   "cell_type": "code",
   "execution_count": 545,
   "id": "cebb0323",
   "metadata": {},
   "outputs": [],
   "source": [
    "# Importando algunas librerias\n",
    "\n",
    "import numpy as np\n",
    "import pandas as pd\n",
    "import matplotlib.pyplot as plt\n",
    "import seaborn as sns\n",
    "import nltk\n",
    "import re\n",
    "import textblob\n",
    "import string\n",
    "from nltk import WordNetLemmatizer\n",
    "from nltk.corpus import names, wordnet, webtext, stopwords, opinion_lexicon\n",
    "from nltk.stem import PorterStemmer\n",
    "from textblob import TextBlob\n",
    "from sklearn.feature_extraction.text import TfidfVectorizer"
   ]
  },
  {
   "cell_type": "markdown",
   "id": "e8ebd3b5",
   "metadata": {},
   "source": [
    "## 1. Recolección de datos\n",
    "### Puntuación máxima de la tarea: 1\n",
    "#### Investigue en detalle sobre el corpus webtext de NLTK. Elija un archivo de dicho corpus para trabajar los siguientes puntos y explique en detalle lo que contiene y el motivo de su elección. "
   ]
  },
  {
   "cell_type": "code",
   "execution_count": 546,
   "id": "ac2907f8",
   "metadata": {},
   "outputs": [],
   "source": [
    "# Veamos los difretnes archivos del corpus webtext.\n",
    "webtext.fileids()\n",
    "# Elijamos grail.txt\n",
    "grail = webtext.raw('grail.txt').split('\\n')"
   ]
  },
  {
   "cell_type": "markdown",
   "id": "1f70b865",
   "metadata": {},
   "source": [
    "<div style=\"background:#FFFFE0;padding:20px;color:#000000;margin-top:10px;\">\n",
    "Elegi el de grail.txt por la razon de que fue el que me llamo mas la atencion, tiene humor y esta un personaje que me gusta mucho que es Rey Arturo. Lo que contiene es una parodia de la historia del Rey arturo original pero como si fuese don quijote ya que a medida que lo vas leyendo te vas dando cuenta que el Rey Arturo narra una fantasia muy lejos de la realidad cuando habla, y te das cuenta por como el soldado #1 lo demuestra cuando habla. \n",
    "</div>"
   ]
  },
  {
   "cell_type": "markdown",
   "id": "36d2ba20",
   "metadata": {},
   "source": [
    "## 2. Descripción y exploración de datos\n",
    "### Puntuación máxima de la tarea: 1\n",
    "#### Utilizando pandas realice distintas descriptivas y exploraciones sobre los textos y comente acerca de sus hallazgos"
   ]
  },
  {
   "cell_type": "code",
   "execution_count": 547,
   "id": "44dc13eb",
   "metadata": {},
   "outputs": [],
   "source": [
    "# Convertimos a DataFrame\n",
    "df = pd.DataFrame(grail, columns=['lines'])"
   ]
  },
  {
   "cell_type": "code",
   "execution_count": 548,
   "id": "73870945-83d8-4700-a68d-d4e8579a8712",
   "metadata": {},
   "outputs": [],
   "source": [
    "# Convertir líneas a oraciones\n",
    "def linesToSentences(line):\n",
    "    return nltk.sent_tokenize(line)\n",
    "\n",
    "# Convertir oraciones a listas de palabras\n",
    "def sentencesToWords(sentences):\n",
    "    return [nltk.word_tokenize(sentence) for sentence in sentences]\n",
    "\n",
    "# Contar total de oraciones por línea\n",
    "def countSentences(sentences):\n",
    "    return len(sentences)\n",
    "\n",
    "# Contar total de palabras por línea\n",
    "def countWords(nested_word_lists):\n",
    "    return sum(len(word_list) for word_list in nested_word_lists)\n",
    "\n",
    "# Contar total caracteres por linea.\n",
    "def countCharacters(line):\n",
    "    return len(line)\n"
   ]
  },
  {
   "cell_type": "code",
   "execution_count": 549,
   "id": "2e23a6bf-fb96-4278-8c3c-e5158be7bf99",
   "metadata": {},
   "outputs": [],
   "source": [
    "# Aplicamos transformaciones\n",
    "df['sentences'] = df['lines'].apply(linesToSentences)\n",
    "df['words'] = df['sentences'].apply(sentencesToWords)\n",
    "df['totalSentences'] = df['sentences'].apply(countSentences)\n",
    "df['totalWords'] = df['words'].apply(countWords)\n",
    "df['totalCharacters'] = df['lines'].apply(countCharacters)"
   ]
  },
  {
   "cell_type": "code",
   "execution_count": 550,
   "id": "4e90e529-6c49-479d-8e81-66df09ff7197",
   "metadata": {},
   "outputs": [
    {
     "data": {
      "text/html": [
       "<div>\n",
       "<style scoped>\n",
       "    .dataframe tbody tr th:only-of-type {\n",
       "        vertical-align: middle;\n",
       "    }\n",
       "\n",
       "    .dataframe tbody tr th {\n",
       "        vertical-align: top;\n",
       "    }\n",
       "\n",
       "    .dataframe thead th {\n",
       "        text-align: right;\n",
       "    }\n",
       "</style>\n",
       "<table border=\"1\" class=\"dataframe\">\n",
       "  <thead>\n",
       "    <tr style=\"text-align: right;\">\n",
       "      <th></th>\n",
       "      <th>lines</th>\n",
       "      <th>sentences</th>\n",
       "      <th>words</th>\n",
       "      <th>totalSentences</th>\n",
       "      <th>totalWords</th>\n",
       "      <th>totalCharacters</th>\n",
       "    </tr>\n",
       "  </thead>\n",
       "  <tbody>\n",
       "    <tr>\n",
       "      <th>0</th>\n",
       "      <td>SCENE 1: [wind] [clop clop clop]</td>\n",
       "      <td>[SCENE 1: [wind] [clop clop clop]]</td>\n",
       "      <td>[[SCENE, 1, :, [, wind, ], [, clop, clop, clop...</td>\n",
       "      <td>1</td>\n",
       "      <td>11</td>\n",
       "      <td>33</td>\n",
       "    </tr>\n",
       "    <tr>\n",
       "      <th>1</th>\n",
       "      <td>KING ARTHUR: Whoa there!  [clop clop clop]</td>\n",
       "      <td>[KING ARTHUR: Whoa there!, [clop clop clop]]</td>\n",
       "      <td>[[KING, ARTHUR, :, Whoa, there, !], [[, clop, ...</td>\n",
       "      <td>2</td>\n",
       "      <td>11</td>\n",
       "      <td>43</td>\n",
       "    </tr>\n",
       "    <tr>\n",
       "      <th>2</th>\n",
       "      <td>SOLDIER #1: Halt!  Who goes there?</td>\n",
       "      <td>[SOLDIER #1: Halt!, Who goes there?]</td>\n",
       "      <td>[[SOLDIER, #, 1, :, Halt, !], [Who, goes, ther...</td>\n",
       "      <td>2</td>\n",
       "      <td>10</td>\n",
       "      <td>34</td>\n",
       "    </tr>\n",
       "    <tr>\n",
       "      <th>3</th>\n",
       "      <td>ARTHUR: It is I, Arthur, son of Uther Pendrago...</td>\n",
       "      <td>[ARTHUR: It is I, Arthur, son of Uther Pendrag...</td>\n",
       "      <td>[[ARTHUR, :, It, is, I, ,, Arthur, ,, son, of,...</td>\n",
       "      <td>2</td>\n",
       "      <td>34</td>\n",
       "      <td>148</td>\n",
       "    </tr>\n",
       "    <tr>\n",
       "      <th>4</th>\n",
       "      <td>SOLDIER #1: Pull the other one!</td>\n",
       "      <td>[SOLDIER #1: Pull the other one!]</td>\n",
       "      <td>[[SOLDIER, #, 1, :, Pull, the, other, one, !]]</td>\n",
       "      <td>1</td>\n",
       "      <td>9</td>\n",
       "      <td>31</td>\n",
       "    </tr>\n",
       "    <tr>\n",
       "      <th>...</th>\n",
       "      <td>...</td>\n",
       "      <td>...</td>\n",
       "      <td>...</td>\n",
       "      <td>...</td>\n",
       "      <td>...</td>\n",
       "      <td>...</td>\n",
       "    </tr>\n",
       "    <tr>\n",
       "      <th>1187</th>\n",
       "      <td>OFFICER #2: Come on.  Back with 'em.  Back.  R...</td>\n",
       "      <td>[OFFICER #2: Come on., Back with 'em., Back., ...</td>\n",
       "      <td>[[OFFICER, #, 2, :, Come, on, .], [Back, with,...</td>\n",
       "      <td>5</td>\n",
       "      <td>18</td>\n",
       "      <td>64</td>\n",
       "    </tr>\n",
       "    <tr>\n",
       "      <th>1188</th>\n",
       "      <td>INSPECTOR: Everything? [squeak]</td>\n",
       "      <td>[INSPECTOR: Everything?, [squeak]]</td>\n",
       "      <td>[[INSPECTOR, :, Everything, ?], [[, squeak, ]]]</td>\n",
       "      <td>2</td>\n",
       "      <td>7</td>\n",
       "      <td>32</td>\n",
       "    </tr>\n",
       "    <tr>\n",
       "      <th>1189</th>\n",
       "      <td>OFFICER #1: All right, sonny.  That's enough. ...</td>\n",
       "      <td>[OFFICER #1: All right, sonny., That's enough....</td>\n",
       "      <td>[[OFFICER, #, 1, :, All, right, ,, sonny, .], ...</td>\n",
       "      <td>4</td>\n",
       "      <td>21</td>\n",
       "      <td>74</td>\n",
       "    </tr>\n",
       "    <tr>\n",
       "      <th>1190</th>\n",
       "      <td>CAMERAMAN: Christ!</td>\n",
       "      <td>[CAMERAMAN: Christ!]</td>\n",
       "      <td>[[CAMERAMAN, :, Christ, !]]</td>\n",
       "      <td>1</td>\n",
       "      <td>4</td>\n",
       "      <td>18</td>\n",
       "    </tr>\n",
       "    <tr>\n",
       "      <th>1191</th>\n",
       "      <td></td>\n",
       "      <td>[]</td>\n",
       "      <td>[]</td>\n",
       "      <td>0</td>\n",
       "      <td>0</td>\n",
       "      <td>0</td>\n",
       "    </tr>\n",
       "  </tbody>\n",
       "</table>\n",
       "<p>1192 rows × 6 columns</p>\n",
       "</div>"
      ],
      "text/plain": [
       "                                                  lines  \\\n",
       "0                     SCENE 1: [wind] [clop clop clop]    \n",
       "1           KING ARTHUR: Whoa there!  [clop clop clop]    \n",
       "2                    SOLDIER #1: Halt!  Who goes there?   \n",
       "3     ARTHUR: It is I, Arthur, son of Uther Pendrago...   \n",
       "4                       SOLDIER #1: Pull the other one!   \n",
       "...                                                 ...   \n",
       "1187  OFFICER #2: Come on.  Back with 'em.  Back.  R...   \n",
       "1188                   INSPECTOR: Everything? [squeak]    \n",
       "1189  OFFICER #1: All right, sonny.  That's enough. ...   \n",
       "1190                                 CAMERAMAN: Christ!   \n",
       "1191                                                      \n",
       "\n",
       "                                              sentences  \\\n",
       "0                    [SCENE 1: [wind] [clop clop clop]]   \n",
       "1          [KING ARTHUR: Whoa there!, [clop clop clop]]   \n",
       "2                  [SOLDIER #1: Halt!, Who goes there?]   \n",
       "3     [ARTHUR: It is I, Arthur, son of Uther Pendrag...   \n",
       "4                     [SOLDIER #1: Pull the other one!]   \n",
       "...                                                 ...   \n",
       "1187  [OFFICER #2: Come on., Back with 'em., Back., ...   \n",
       "1188                 [INSPECTOR: Everything?, [squeak]]   \n",
       "1189  [OFFICER #1: All right, sonny., That's enough....   \n",
       "1190                               [CAMERAMAN: Christ!]   \n",
       "1191                                                 []   \n",
       "\n",
       "                                                  words  totalSentences  \\\n",
       "0     [[SCENE, 1, :, [, wind, ], [, clop, clop, clop...               1   \n",
       "1     [[KING, ARTHUR, :, Whoa, there, !], [[, clop, ...               2   \n",
       "2     [[SOLDIER, #, 1, :, Halt, !], [Who, goes, ther...               2   \n",
       "3     [[ARTHUR, :, It, is, I, ,, Arthur, ,, son, of,...               2   \n",
       "4        [[SOLDIER, #, 1, :, Pull, the, other, one, !]]               1   \n",
       "...                                                 ...             ...   \n",
       "1187  [[OFFICER, #, 2, :, Come, on, .], [Back, with,...               5   \n",
       "1188    [[INSPECTOR, :, Everything, ?], [[, squeak, ]]]               2   \n",
       "1189  [[OFFICER, #, 1, :, All, right, ,, sonny, .], ...               4   \n",
       "1190                        [[CAMERAMAN, :, Christ, !]]               1   \n",
       "1191                                                 []               0   \n",
       "\n",
       "      totalWords  totalCharacters  \n",
       "0             11               33  \n",
       "1             11               43  \n",
       "2             10               34  \n",
       "3             34              148  \n",
       "4              9               31  \n",
       "...          ...              ...  \n",
       "1187          18               64  \n",
       "1188           7               32  \n",
       "1189          21               74  \n",
       "1190           4               18  \n",
       "1191           0                0  \n",
       "\n",
       "[1192 rows x 6 columns]"
      ]
     },
     "execution_count": 550,
     "metadata": {},
     "output_type": "execute_result"
    }
   ],
   "source": [
    "df"
   ]
  },
  {
   "cell_type": "code",
   "execution_count": 551,
   "id": "e5a46599-0a98-497f-881b-50e2c4a95517",
   "metadata": {},
   "outputs": [
    {
     "data": {
      "text/plain": [
       "array([<Axes: >, <Axes: >, <Axes: >], dtype=object)"
      ]
     },
     "execution_count": 551,
     "metadata": {},
     "output_type": "execute_result"
    },
    {
     "data": {
      "image/png": "[encoded data removed]",
      "text/plain": [
       "<Figure size 1200x1200 with 3 Axes>"
      ]
     },
     "metadata": {},
     "output_type": "display_data"
    }
   ],
   "source": [
    "df.plot(kind = 'line', subplots = True, figsize = (12,12))"
   ]
  },
  {
   "cell_type": "markdown",
   "id": "c1757cc5-2da1-4796-903e-5e97691d5248",
   "metadata": {},
   "source": [
    "<div style=\"background:#FFFFE0;padding:20px;color:#000000;margin-top:10px;\">\n",
    "Gracias a este proceso de tomar el texto y sacar de el: \n",
    "    \n",
    "    1. Total de lineas.\n",
    "    2. Total de oraciones.\n",
    "    3. Total de palabras.\n",
    "\n",
    "\n",
    "Se puede tomar un paso a analizar el promedio de distintas cosas tales como:\n",
    "\n",
    "- Oraciones promedio por lineas.\n",
    "- Palabras promedio por oracion.\n",
    "- Caracteres promedio por linea.\n",
    "- etc.\n",
    "</div>"
   ]
  },
  {
   "cell_type": "code",
   "execution_count": 552,
   "id": "1eb3bb51-1d77-4a14-bb1b-6d3b82d4545d",
   "metadata": {},
   "outputs": [
    {
     "data": {
      "text/plain": [
       "totalWords         13.809564\n",
       "totalSentences      1.773490\n",
       "totalCharacters    53.533557\n",
       "dtype: float64"
      ]
     },
     "execution_count": 552,
     "metadata": {},
     "output_type": "execute_result"
    }
   ],
   "source": [
    "# Hagamos un promedio de las colimnas con nombres total* usando el metodo mean() de la libreria Pandas.\n",
    "dfPromedio = df[['totalWords','totalSentences','totalCharacters']].mean()\n",
    "dfPromedio"
   ]
  },
  {
   "cell_type": "code",
   "execution_count": 553,
   "id": "da2302b4-3348-42c7-8d06-f989bafb2c7a",
   "metadata": {},
   "outputs": [
    {
     "data": {
      "text/plain": [
       "<Axes: title={'center': 'Cantidad promedio'}>"
      ]
     },
     "execution_count": 553,
     "metadata": {},
     "output_type": "execute_result"
    },
    {
     "data": {
      "image/png": "[encoded data removed]",
      "text/plain": [
       "<Figure size 640x480 with 1 Axes>"
      ]
     },
     "metadata": {},
     "output_type": "display_data"
    }
   ],
   "source": [
    "# Estos datos se pueden presentar en un grafico barra para mas apreciacion.\n",
    "dfPromedio.plot(kind='barh', title = 'Cantidad promedio')"
   ]
  },
  {
   "cell_type": "code",
   "execution_count": 554,
   "id": "ea612840-d47e-4d5d-a6bb-f3651ed46e3a",
   "metadata": {},
   "outputs": [
    {
     "data": {
      "text/plain": [
       "[totalWords         0\n",
       " totalSentences     0\n",
       " totalCharacters    0\n",
       " dtype: int64,\n",
       " totalWords         119\n",
       " totalSentences      23\n",
       " totalCharacters    571\n",
       " dtype: int64]"
      ]
     },
     "execution_count": 554,
     "metadata": {},
     "output_type": "execute_result"
    }
   ],
   "source": [
    "# Hagamos un min y max de las colimnas con nombres total* usando el metodo mean() de la libreria Pandas.\n",
    "dfMax = df[['totalWords','totalSentences','totalCharacters']].max()\n",
    "dfMin = df[['totalWords','totalSentences','totalCharacters']].min()\n",
    "dfRes = [dfMin,dfMax]\n",
    "dfRes"
   ]
  },
  {
   "cell_type": "code",
   "execution_count": 555,
   "id": "a3ac5d00-5178-4cc3-9017-016bcbbc5f09",
   "metadata": {},
   "outputs": [
    {
     "data": {
      "text/plain": [
       "<Axes: title={'center': 'Cantidad Min y Max'}>"
      ]
     },
     "execution_count": 555,
     "metadata": {},
     "output_type": "execute_result"
    },
    {
     "data": {
      "image/png": "[encoded data removed]",
      "text/plain": [
       "<Figure size 640x480 with 1 Axes>"
      ]
     },
     "metadata": {},
     "output_type": "display_data"
    }
   ],
   "source": [
    "# Estos datos se pueden presentar en un grafico barra para mas apreciacion.\n",
    "dfPromedio.plot(kind='bar', title = 'Cantidad Min y Max')"
   ]
  },
  {
   "cell_type": "markdown",
   "id": "090befc2-6243-4dd1-94aa-61b638281e84",
   "metadata": {},
   "source": [
    "<div style=\"background:#FFFFE0;padding:20px;color:#000000;margin-top:10px;\">\n",
    "\n",
    "En esta sección se realizó un análisis exploratorio del texto, enfocándose en la cantidad de oraciones, palabras y caracteres por línea. A partir de estos datos, se calcularon estadísticas descriptivas clave, incluyendo los promedios, los valores mínimos y los máximos observados para cada métrica. Estos resultados permitieron obtener una visión general sobre la estructura del texto y su variabilidad USANDO la libreria Pandas. Asimismo, se generaron visualizaciones que facilitaron la interpretación de estos valores, facilitando aun mas la comprension del texto.\n",
    "\n",
    "\n",
    "</div>"
   ]
  },
  {
   "cell_type": "markdown",
   "id": "9d803e21",
   "metadata": {},
   "source": [
    "## 3. Limpieza de datos\n",
    "### Puntuación máxima de la tarea: 2\n",
    "#### Investigue y aplique distintas técnicas de limpieza para el conjunto de textos  y explique las razones de la aplicación de cada una de estas"
   ]
  },
  {
   "cell_type": "code",
   "execution_count": 556,
   "id": "4223992e",
   "metadata": {},
   "outputs": [
    {
     "data": {
      "text/html": [
       "<div>\n",
       "<style scoped>\n",
       "    .dataframe tbody tr th:only-of-type {\n",
       "        vertical-align: middle;\n",
       "    }\n",
       "\n",
       "    .dataframe tbody tr th {\n",
       "        vertical-align: top;\n",
       "    }\n",
       "\n",
       "    .dataframe thead th {\n",
       "        text-align: right;\n",
       "    }\n",
       "</style>\n",
       "<table border=\"1\" class=\"dataframe\">\n",
       "  <thead>\n",
       "    <tr style=\"text-align: right;\">\n",
       "      <th></th>\n",
       "      <th>lines</th>\n",
       "    </tr>\n",
       "  </thead>\n",
       "  <tbody>\n",
       "    <tr>\n",
       "      <th>0</th>\n",
       "      <td>scene 1: [wind] [clop clop clop]</td>\n",
       "    </tr>\n",
       "    <tr>\n",
       "      <th>1</th>\n",
       "      <td>king arthur: whoa there!  [clop clop clop]</td>\n",
       "    </tr>\n",
       "    <tr>\n",
       "      <th>2</th>\n",
       "      <td>soldier #1: halt!  who goes there?</td>\n",
       "    </tr>\n",
       "    <tr>\n",
       "      <th>3</th>\n",
       "      <td>arthur: it is i, arthur, son of uther pendrago...</td>\n",
       "    </tr>\n",
       "    <tr>\n",
       "      <th>4</th>\n",
       "      <td>soldier #1: pull the other one!</td>\n",
       "    </tr>\n",
       "    <tr>\n",
       "      <th>...</th>\n",
       "      <td>...</td>\n",
       "    </tr>\n",
       "    <tr>\n",
       "      <th>1187</th>\n",
       "      <td>officer #2: come on.  back with 'em.  back.  r...</td>\n",
       "    </tr>\n",
       "    <tr>\n",
       "      <th>1188</th>\n",
       "      <td>inspector: everything? [squeak]</td>\n",
       "    </tr>\n",
       "    <tr>\n",
       "      <th>1189</th>\n",
       "      <td>officer #1: all right, sonny.  that's enough. ...</td>\n",
       "    </tr>\n",
       "    <tr>\n",
       "      <th>1190</th>\n",
       "      <td>cameraman: christ!</td>\n",
       "    </tr>\n",
       "    <tr>\n",
       "      <th>1191</th>\n",
       "      <td></td>\n",
       "    </tr>\n",
       "  </tbody>\n",
       "</table>\n",
       "<p>1192 rows × 1 columns</p>\n",
       "</div>"
      ],
      "text/plain": [
       "                                                  lines\n",
       "0                     scene 1: [wind] [clop clop clop] \n",
       "1           king arthur: whoa there!  [clop clop clop] \n",
       "2                    soldier #1: halt!  who goes there?\n",
       "3     arthur: it is i, arthur, son of uther pendrago...\n",
       "4                       soldier #1: pull the other one!\n",
       "...                                                 ...\n",
       "1187  officer #2: come on.  back with 'em.  back.  r...\n",
       "1188                   inspector: everything? [squeak] \n",
       "1189  officer #1: all right, sonny.  that's enough. ...\n",
       "1190                                 cameraman: christ!\n",
       "1191                                                   \n",
       "\n",
       "[1192 rows x 1 columns]"
      ]
     },
     "execution_count": 556,
     "metadata": {},
     "output_type": "execute_result"
    }
   ],
   "source": [
    "# Tomemos el dataframe con solo la columna lines.\n",
    "data = df['lines']\n",
    "cleanDf = pd.DataFrame(data)\n",
    "# Apliquemos lowercase\n",
    "cleanDf['lines'] = cleanDf['lines'].str.lower()\n",
    "cleanDf"
   ]
  },
  {
   "cell_type": "code",
   "execution_count": 557,
   "id": "9e5bed3f-3600-4b8e-82e7-cbc01258c970",
   "metadata": {},
   "outputs": [],
   "source": [
    "# Vamos a expandir las abreviaciones\n",
    "# expand \n",
    "\n",
    "def remove_abb(data):\n",
    "    data = re.sub(r\"he's\", \"he is\", data)\n",
    "    data = re.sub(r\"there's\", \"there is\", data)\n",
    "    data = re.sub(r\"We're\", \"We are\", data)\n",
    "    data = re.sub(r\"That's\", \"That is\", data)\n",
    "    data = re.sub(r\"won't\", \"will not\", data)\n",
    "    data = re.sub(r\"they're\", \"they are\", data)\n",
    "    data = re.sub(r\"Can't\", \"Cannot\", data)\n",
    "    data = re.sub(r\"wasn't\", \"was not\", data)\n",
    "    data = re.sub(r\"don\\x89Ûªt\", \"do not\", data)\n",
    "    data= re.sub(r\"aren't\", \"are not\", data)\n",
    "    data = re.sub(r\"isn't\", \"is not\", data)\n",
    "    data = re.sub(r\"What's\", \"What is\", data)\n",
    "    data = re.sub(r\"haven't\", \"have not\", data)\n",
    "    data = re.sub(r\"hasn't\", \"has not\", data)\n",
    "    data = re.sub(r\"There's\", \"There is\", data)\n",
    "    data = re.sub(r\"He's\", \"He is\", data)\n",
    "    data = re.sub(r\"It's\", \"It is\", data)\n",
    "    data = re.sub(r\"You're\", \"You are\", data)\n",
    "    data = re.sub(r\"I'M\", \"I am\", data)\n",
    "    data = re.sub(r\"shouldn't\", \"should not\", data)\n",
    "    data = re.sub(r\"wouldn't\", \"would not\", data)\n",
    "    data = re.sub(r\"i'm\", \"I am\", data)\n",
    "    data = re.sub(r\"I\\x89Ûªm\", \"I am\", data)\n",
    "    data = re.sub(r\"I'm\", \"I am\", data)\n",
    "    data = re.sub(r\"Isn't\", \"is not\", data)\n",
    "    data = re.sub(r\"Here's\", \"Here is\", data)\n",
    "    data = re.sub(r\"you've\", \"you have\", data)\n",
    "    data = re.sub(r\"you\\x89Ûªve\", \"you have\", data)\n",
    "    data = re.sub(r\"we're\", \"we are\", data)\n",
    "    data = re.sub(r\"what's\", \"what is\", data)\n",
    "    data = re.sub(r\"couldn't\", \"could not\", data)\n",
    "    data = re.sub(r\"we've\", \"we have\", data)\n",
    "    data = re.sub(r\"it\\x89Ûªs\", \"it is\", data)\n",
    "    data = re.sub(r\"doesn\\x89Ûªt\", \"does not\", data)\n",
    "    data = re.sub(r\"It\\x89Ûªs\", \"It is\", data)\n",
    "    data = re.sub(r\"Here\\x89Ûªs\", \"Here is\", data)\n",
    "    data = re.sub(r\"who's\", \"who is\", data)\n",
    "    data = re.sub(r\"I\\x89Ûªve\", \"I have\", data)\n",
    "    data = re.sub(r\"y'all\", \"you all\", data)\n",
    "    data = re.sub(r\"can\\x89Ûªt\", \"cannot\", data)\n",
    "    data = re.sub(r\"would've\", \"would have\", data)\n",
    "    data = re.sub(r\"it'll\", \"it will\", data)\n",
    "    data = re.sub(r\"we'll\", \"we will\", data)\n",
    "    data = re.sub(r\"wouldn\\x89Ûªt\", \"would not\", data)\n",
    "    data = re.sub(r\"We've\", \"We have\", data)\n",
    "    data = re.sub(r\"he'll\", \"he will\", data)\n",
    "    data = re.sub(r\"Y'all\", \"You all\", data)\n",
    "    data = re.sub(r\"Weren't\", \"Were not\", data)\n",
    "    data = re.sub(r\"Didn't\", \"Did not\", data)\n",
    "    data = re.sub(r\"they'll\", \"they will\", data)\n",
    "    data = re.sub(r\"they'd\", \"they would\", data)\n",
    "    data = re.sub(r\"DON'T\", \"DO NOT\", data)\n",
    "    data = re.sub(r\"That\\x89Ûªs\", \"That is\", data)\n",
    "    data = re.sub(r\"they've\", \"they have\", data)\n",
    "    data = re.sub(r\"i'd\", \"I would\", data)\n",
    "    data = re.sub(r\"should've\", \"should have\", data)\n",
    "    data = re.sub(r\"You\\x89Ûªre\", \"You are\", data)\n",
    "    data = re.sub(r\"where's\", \"where is\", data)\n",
    "    data = re.sub(r\"Don\\x89Ûªt\", \"Do not\", data)\n",
    "    data = re.sub(r\"we'd\", \"we would\", data)\n",
    "    data = re.sub(r\"i'll\", \"I will\", data)\n",
    "    data = re.sub(r\"weren't\", \"were not\", data)\n",
    "    data = re.sub(r\"They're\", \"They are\", data)\n",
    "    data = re.sub(r\"Can\\x89Ûªt\", \"Cannot\", data)\n",
    "    data = re.sub(r\"you\\x89Ûªll\", \"you will\", data)\n",
    "    data = re.sub(r\"I\\x89Ûªd\", \"I would\", data)\n",
    "    data = re.sub(r\"let's\", \"let us\", data)\n",
    "    data = re.sub(r\"it's\", \"it is\", data)\n",
    "    data = re.sub(r\"can't\", \"cannot\", data)\n",
    "    data = re.sub(r\"don't\", \"do not\", data)\n",
    "    data = re.sub(r\"you're\", \"you are\", data)\n",
    "    data = re.sub(r\"i've\", \"I have\", data)\n",
    "    data = re.sub(r\"that's\", \"that is\", data)\n",
    "    data = re.sub(r\"i'll\", \"I will\", data)\n",
    "    data = re.sub(r\"doesn't\", \"does not\",data)\n",
    "    data = re.sub(r\"i'd\", \"I would\", data)\n",
    "    data = re.sub(r\"didn't\", \"did not\", data)\n",
    "    data = re.sub(r\"ain't\", \"am not\", data)\n",
    "    data = re.sub(r\"you'll\", \"you will\", data)\n",
    "    data = re.sub(r\"I've\", \"I have\", data)\n",
    "    data = re.sub(r\"Don't\", \"do not\", data)\n",
    "    data = re.sub(r\"I'll\", \"I will\", data)\n",
    "    data = re.sub(r\"I'd\", \"I would\", data)\n",
    "    data = re.sub(r\"Let's\", \"Let us\", data)\n",
    "    data = re.sub(r\"you'd\", \"You would\", data)\n",
    "    data = re.sub(r\"It's\", \"It is\", data)\n",
    "    data = re.sub(r\"Ain't\", \"am not\", data)\n",
    "    data = re.sub(r\"Haven't\", \"Have not\", data)\n",
    "    data = re.sub(r\"Could've\", \"Could have\", data)\n",
    "    data = re.sub(r\"youve\", \"you have\", data)  \n",
    "    data = re.sub(r\"donå«t\", \"do not\", data)\n",
    "    \n",
    "    return data"
   ]
  },
  {
   "cell_type": "code",
   "execution_count": 558,
   "id": "4c8b9d69-ddc3-4a30-9daa-92aa0a005afd",
   "metadata": {},
   "outputs": [],
   "source": [
    "# Apliquemos la funcion para expandir abreviaciones\n",
    "cleanDf['lines'] = cleanDf['lines'].apply(remove_abb)"
   ]
  },
  {
   "cell_type": "code",
   "execution_count": 559,
   "id": "0e43f658-e1f5-422c-ac7c-7fc7756e3333",
   "metadata": {},
   "outputs": [
    {
     "data": {
      "text/html": [
       "<div>\n",
       "<style scoped>\n",
       "    .dataframe tbody tr th:only-of-type {\n",
       "        vertical-align: middle;\n",
       "    }\n",
       "\n",
       "    .dataframe tbody tr th {\n",
       "        vertical-align: top;\n",
       "    }\n",
       "\n",
       "    .dataframe thead th {\n",
       "        text-align: right;\n",
       "    }\n",
       "</style>\n",
       "<table border=\"1\" class=\"dataframe\">\n",
       "  <thead>\n",
       "    <tr style=\"text-align: right;\">\n",
       "      <th></th>\n",
       "      <th>lines</th>\n",
       "    </tr>\n",
       "  </thead>\n",
       "  <tbody>\n",
       "    <tr>\n",
       "      <th>0</th>\n",
       "      <td>scene 1: [wind] [clot clot clot]</td>\n",
       "    </tr>\n",
       "    <tr>\n",
       "      <th>1</th>\n",
       "      <td>king arthur: whoa there!  [clot clot clot]</td>\n",
       "    </tr>\n",
       "    <tr>\n",
       "      <th>2</th>\n",
       "      <td>soldier #1: halt!  who goes there?</td>\n",
       "    </tr>\n",
       "    <tr>\n",
       "      <th>3</th>\n",
       "      <td>arthur: it is i, arthur, son of other pendrago...</td>\n",
       "    </tr>\n",
       "    <tr>\n",
       "      <th>4</th>\n",
       "      <td>soldier #1: pull the other one!</td>\n",
       "    </tr>\n",
       "    <tr>\n",
       "      <th>...</th>\n",
       "      <td>...</td>\n",
       "    </tr>\n",
       "    <tr>\n",
       "      <th>1187</th>\n",
       "      <td>officer #2: come on.  back with 'em.  back.  r...</td>\n",
       "    </tr>\n",
       "    <tr>\n",
       "      <th>1188</th>\n",
       "      <td>inspector: everything? [squeaky]</td>\n",
       "    </tr>\n",
       "    <tr>\n",
       "      <th>1189</th>\n",
       "      <td>officer #1: all right, sunny.  that is enough....</td>\n",
       "    </tr>\n",
       "    <tr>\n",
       "      <th>1190</th>\n",
       "      <td>cameraman: christ!</td>\n",
       "    </tr>\n",
       "    <tr>\n",
       "      <th>1191</th>\n",
       "      <td></td>\n",
       "    </tr>\n",
       "  </tbody>\n",
       "</table>\n",
       "<p>1192 rows × 1 columns</p>\n",
       "</div>"
      ],
      "text/plain": [
       "                                                  lines\n",
       "0                     scene 1: [wind] [clot clot clot] \n",
       "1           king arthur: whoa there!  [clot clot clot] \n",
       "2                    soldier #1: halt!  who goes there?\n",
       "3     arthur: it is i, arthur, son of other pendrago...\n",
       "4                       soldier #1: pull the other one!\n",
       "...                                                 ...\n",
       "1187  officer #2: come on.  back with 'em.  back.  r...\n",
       "1188                  inspector: everything? [squeaky] \n",
       "1189  officer #1: all right, sunny.  that is enough....\n",
       "1190                                 cameraman: christ!\n",
       "1191                                                   \n",
       "\n",
       "[1192 rows x 1 columns]"
      ]
     },
     "execution_count": 559,
     "metadata": {},
     "output_type": "execute_result"
    }
   ],
   "source": [
    "# Ahora vamos a utilizar la libreria textblob para corregir expresiones en las lineas del texto.\n",
    "def spelling_correction(text):\n",
    "    return TextBlob(text).correct().string\n",
    "    \n",
    "cleanDf['lines'] = cleanDf['lines'].apply(spelling_correction)\n",
    "cleanDf"
   ]
  },
  {
   "cell_type": "code",
   "execution_count": 560,
   "id": "1b573e79-d1cc-44e0-bbbb-76ce78b4ed49",
   "metadata": {},
   "outputs": [],
   "source": [
    "def remove_puctuation(text):\n",
    "    \n",
    "    for i in string.punctuation:\n",
    "        if i in text:\n",
    "            text = text.replace(i,'')\n",
    "            \n",
    "    return text"
   ]
  },
  {
   "cell_type": "code",
   "execution_count": 561,
   "id": "0f46c06d-a2af-40d5-9f37-269ac3e42516",
   "metadata": {},
   "outputs": [
    {
     "data": {
      "text/plain": [
       "0                         scene 1 wind clot clot clot \n",
       "1              king arthur whoa there  clot clot clot \n",
       "2                       soldier 1 halt  who goes there\n",
       "3    arthur it is i arthur son of other pendragon f...\n",
       "4                         soldier 1 pull the other one\n",
       "Name: lines, dtype: object"
      ]
     },
     "execution_count": 561,
     "metadata": {},
     "output_type": "execute_result"
    }
   ],
   "source": [
    "cleanDf['lines'] = cleanDf['lines'].apply(remove_puctuation)\n",
    "cleanDf['lines'].head()"
   ]
  },
  {
   "cell_type": "code",
   "execution_count": 562,
   "id": "281f13e4-6ebe-4d2b-a2e2-9fe9d2f59d64",
   "metadata": {},
   "outputs": [
    {
     "data": {
      "text/html": [
       "<div>\n",
       "<style scoped>\n",
       "    .dataframe tbody tr th:only-of-type {\n",
       "        vertical-align: middle;\n",
       "    }\n",
       "\n",
       "    .dataframe tbody tr th {\n",
       "        vertical-align: top;\n",
       "    }\n",
       "\n",
       "    .dataframe thead th {\n",
       "        text-align: right;\n",
       "    }\n",
       "</style>\n",
       "<table border=\"1\" class=\"dataframe\">\n",
       "  <thead>\n",
       "    <tr style=\"text-align: right;\">\n",
       "      <th></th>\n",
       "      <th>lines</th>\n",
       "      <th>tokens</th>\n",
       "    </tr>\n",
       "  </thead>\n",
       "  <tbody>\n",
       "    <tr>\n",
       "      <th>0</th>\n",
       "      <td>scene 1 wind clot clot clot</td>\n",
       "      <td>[scene, 1, wind, clot, clot, clot]</td>\n",
       "    </tr>\n",
       "    <tr>\n",
       "      <th>1</th>\n",
       "      <td>king arthur whoa there  clot clot clot</td>\n",
       "      <td>[king, arthur, whoa, there, clot, clot, clot]</td>\n",
       "    </tr>\n",
       "    <tr>\n",
       "      <th>2</th>\n",
       "      <td>soldier 1 halt  who goes there</td>\n",
       "      <td>[soldier, 1, halt, who, goes, there]</td>\n",
       "    </tr>\n",
       "    <tr>\n",
       "      <th>3</th>\n",
       "      <td>arthur it is i arthur son of other pendragon f...</td>\n",
       "      <td>[arthur, it, is, i, arthur, son, of, other, pe...</td>\n",
       "    </tr>\n",
       "    <tr>\n",
       "      <th>4</th>\n",
       "      <td>soldier 1 pull the other one</td>\n",
       "      <td>[soldier, 1, pull, the, other, one]</td>\n",
       "    </tr>\n",
       "    <tr>\n",
       "      <th>...</th>\n",
       "      <td>...</td>\n",
       "      <td>...</td>\n",
       "    </tr>\n",
       "    <tr>\n",
       "      <th>1187</th>\n",
       "      <td>officer 2 come on  back with em  back  right  ...</td>\n",
       "      <td>[officer, 2, come, on, back, with, em, back, r...</td>\n",
       "    </tr>\n",
       "    <tr>\n",
       "      <th>1188</th>\n",
       "      <td>inspector everything squeaky</td>\n",
       "      <td>[inspector, everything, squeaky]</td>\n",
       "    </tr>\n",
       "    <tr>\n",
       "      <th>1189</th>\n",
       "      <td>officer 1 all right sunny  that is enough  jus...</td>\n",
       "      <td>[officer, 1, all, right, sunny, that, is, enou...</td>\n",
       "    </tr>\n",
       "    <tr>\n",
       "      <th>1190</th>\n",
       "      <td>cameraman christ</td>\n",
       "      <td>[cameraman, christ]</td>\n",
       "    </tr>\n",
       "    <tr>\n",
       "      <th>1191</th>\n",
       "      <td></td>\n",
       "      <td>[]</td>\n",
       "    </tr>\n",
       "  </tbody>\n",
       "</table>\n",
       "<p>1192 rows × 2 columns</p>\n",
       "</div>"
      ],
      "text/plain": [
       "                                                  lines  \\\n",
       "0                          scene 1 wind clot clot clot    \n",
       "1               king arthur whoa there  clot clot clot    \n",
       "2                        soldier 1 halt  who goes there   \n",
       "3     arthur it is i arthur son of other pendragon f...   \n",
       "4                          soldier 1 pull the other one   \n",
       "...                                                 ...   \n",
       "1187  officer 2 come on  back with em  back  right  ...   \n",
       "1188                      inspector everything squeaky    \n",
       "1189  officer 1 all right sunny  that is enough  jus...   \n",
       "1190                                   cameraman christ   \n",
       "1191                                                      \n",
       "\n",
       "                                                 tokens  \n",
       "0                    [scene, 1, wind, clot, clot, clot]  \n",
       "1         [king, arthur, whoa, there, clot, clot, clot]  \n",
       "2                  [soldier, 1, halt, who, goes, there]  \n",
       "3     [arthur, it, is, i, arthur, son, of, other, pe...  \n",
       "4                   [soldier, 1, pull, the, other, one]  \n",
       "...                                                 ...  \n",
       "1187  [officer, 2, come, on, back, with, em, back, r...  \n",
       "1188                   [inspector, everything, squeaky]  \n",
       "1189  [officer, 1, all, right, sunny, that, is, enou...  \n",
       "1190                                [cameraman, christ]  \n",
       "1191                                                 []  \n",
       "\n",
       "[1192 rows x 2 columns]"
      ]
     },
     "execution_count": 562,
     "metadata": {},
     "output_type": "execute_result"
    }
   ],
   "source": [
    "# Tokenizamos el texto\n",
    "cleanDf['tokens'] = cleanDf['lines'].apply(nltk.word_tokenize)\n",
    "cleanDf"
   ]
  },
  {
   "cell_type": "code",
   "execution_count": 563,
   "id": "0c072612-798a-4b57-ac21-e5acc2597977",
   "metadata": {},
   "outputs": [
    {
     "name": "stdout",
     "output_type": "stream",
     "text": [
      "0                      [scene, 1, wind, clot, clot, clot]\n",
      "1                  [king, arthur, whoa, clot, clot, clot]\n",
      "2                                [soldier, 1, halt, goes]\n",
      "3       [arthur, arthur, son, pendragon, castle, camel...\n",
      "4                                 [soldier, 1, pull, one]\n",
      "                              ...                        \n",
      "1187    [officer, 2, come, back, em, back, right, come...\n",
      "1188                     [inspector, everything, squeaky]\n",
      "1189      [officer, 1, right, sunny, enough, pack, crash]\n",
      "1190                                  [cameraman, christ]\n",
      "1191                                                   []\n",
      "Name: tokens, Length: 1192, dtype: object\n"
     ]
    }
   ],
   "source": [
    "# Usemos stopwords de la libreria nltk para filtrar tokens innecesarios (with, the, a/an, etc)\n",
    "stop_words = set(stopwords.words('english'))\n",
    "cleanDf['tokens'] = cleanDf['tokens'].apply(lambda x: [word for word in x if word not in stop_words])\n",
    "print(cleanDf['tokens'])"
   ]
  },
  {
   "cell_type": "code",
   "execution_count": 564,
   "id": "59e8d184-bdba-4cda-a945-cf37f5a5e81a",
   "metadata": {},
   "outputs": [
    {
     "data": {
      "text/html": [
       "<div>\n",
       "<style scoped>\n",
       "    .dataframe tbody tr th:only-of-type {\n",
       "        vertical-align: middle;\n",
       "    }\n",
       "\n",
       "    .dataframe tbody tr th {\n",
       "        vertical-align: top;\n",
       "    }\n",
       "\n",
       "    .dataframe thead th {\n",
       "        text-align: right;\n",
       "    }\n",
       "</style>\n",
       "<table border=\"1\" class=\"dataframe\">\n",
       "  <thead>\n",
       "    <tr style=\"text-align: right;\">\n",
       "      <th></th>\n",
       "      <th>lines</th>\n",
       "      <th>tokens</th>\n",
       "      <th>stemmed</th>\n",
       "    </tr>\n",
       "  </thead>\n",
       "  <tbody>\n",
       "    <tr>\n",
       "      <th>0</th>\n",
       "      <td>scene 1 wind clot clot clot</td>\n",
       "      <td>[scene, 1, wind, clot, clot, clot]</td>\n",
       "      <td>[scene, 1, wind, clot, clot, clot]</td>\n",
       "    </tr>\n",
       "    <tr>\n",
       "      <th>1</th>\n",
       "      <td>king arthur whoa there  clot clot clot</td>\n",
       "      <td>[king, arthur, whoa, clot, clot, clot]</td>\n",
       "      <td>[king, arthur, whoa, clot, clot, clot]</td>\n",
       "    </tr>\n",
       "    <tr>\n",
       "      <th>2</th>\n",
       "      <td>soldier 1 halt  who goes there</td>\n",
       "      <td>[soldier, 1, halt, goes]</td>\n",
       "      <td>[soldier, 1, halt, goe]</td>\n",
       "    </tr>\n",
       "    <tr>\n",
       "      <th>3</th>\n",
       "      <td>arthur it is i arthur son of other pendragon f...</td>\n",
       "      <td>[arthur, arthur, son, pendragon, castle, camel...</td>\n",
       "      <td>[arthur, arthur, son, pendragon, castl, cameli...</td>\n",
       "    </tr>\n",
       "    <tr>\n",
       "      <th>4</th>\n",
       "      <td>soldier 1 pull the other one</td>\n",
       "      <td>[soldier, 1, pull, one]</td>\n",
       "      <td>[soldier, 1, pull, one]</td>\n",
       "    </tr>\n",
       "    <tr>\n",
       "      <th>...</th>\n",
       "      <td>...</td>\n",
       "      <td>...</td>\n",
       "      <td>...</td>\n",
       "    </tr>\n",
       "    <tr>\n",
       "      <th>1187</th>\n",
       "      <td>officer 2 come on  back with em  back  right  ...</td>\n",
       "      <td>[officer, 2, come, back, em, back, right, come...</td>\n",
       "      <td>[offic, 2, come, back, em, back, right, come, ...</td>\n",
       "    </tr>\n",
       "    <tr>\n",
       "      <th>1188</th>\n",
       "      <td>inspector everything squeaky</td>\n",
       "      <td>[inspector, everything, squeaky]</td>\n",
       "      <td>[inspector, everyth, squeaki]</td>\n",
       "    </tr>\n",
       "    <tr>\n",
       "      <th>1189</th>\n",
       "      <td>officer 1 all right sunny  that is enough  jus...</td>\n",
       "      <td>[officer, 1, right, sunny, enough, pack, crash]</td>\n",
       "      <td>[offic, 1, right, sunni, enough, pack, crash]</td>\n",
       "    </tr>\n",
       "    <tr>\n",
       "      <th>1190</th>\n",
       "      <td>cameraman christ</td>\n",
       "      <td>[cameraman, christ]</td>\n",
       "      <td>[cameraman, christ]</td>\n",
       "    </tr>\n",
       "    <tr>\n",
       "      <th>1191</th>\n",
       "      <td></td>\n",
       "      <td>[]</td>\n",
       "      <td>[]</td>\n",
       "    </tr>\n",
       "  </tbody>\n",
       "</table>\n",
       "<p>1192 rows × 3 columns</p>\n",
       "</div>"
      ],
      "text/plain": [
       "                                                  lines  \\\n",
       "0                          scene 1 wind clot clot clot    \n",
       "1               king arthur whoa there  clot clot clot    \n",
       "2                        soldier 1 halt  who goes there   \n",
       "3     arthur it is i arthur son of other pendragon f...   \n",
       "4                          soldier 1 pull the other one   \n",
       "...                                                 ...   \n",
       "1187  officer 2 come on  back with em  back  right  ...   \n",
       "1188                      inspector everything squeaky    \n",
       "1189  officer 1 all right sunny  that is enough  jus...   \n",
       "1190                                   cameraman christ   \n",
       "1191                                                      \n",
       "\n",
       "                                                 tokens  \\\n",
       "0                    [scene, 1, wind, clot, clot, clot]   \n",
       "1                [king, arthur, whoa, clot, clot, clot]   \n",
       "2                              [soldier, 1, halt, goes]   \n",
       "3     [arthur, arthur, son, pendragon, castle, camel...   \n",
       "4                               [soldier, 1, pull, one]   \n",
       "...                                                 ...   \n",
       "1187  [officer, 2, come, back, em, back, right, come...   \n",
       "1188                   [inspector, everything, squeaky]   \n",
       "1189    [officer, 1, right, sunny, enough, pack, crash]   \n",
       "1190                                [cameraman, christ]   \n",
       "1191                                                 []   \n",
       "\n",
       "                                                stemmed  \n",
       "0                    [scene, 1, wind, clot, clot, clot]  \n",
       "1                [king, arthur, whoa, clot, clot, clot]  \n",
       "2                               [soldier, 1, halt, goe]  \n",
       "3     [arthur, arthur, son, pendragon, castl, cameli...  \n",
       "4                               [soldier, 1, pull, one]  \n",
       "...                                                 ...  \n",
       "1187  [offic, 2, come, back, em, back, right, come, ...  \n",
       "1188                      [inspector, everyth, squeaki]  \n",
       "1189      [offic, 1, right, sunni, enough, pack, crash]  \n",
       "1190                                [cameraman, christ]  \n",
       "1191                                                 []  \n",
       "\n",
       "[1192 rows x 3 columns]"
      ]
     },
     "execution_count": 564,
     "metadata": {},
     "output_type": "execute_result"
    }
   ],
   "source": [
    "# Stemming -> Esto nos ayudara a reducir cada palabra a su raiz.\n",
    "stemmer = PorterStemmer()\n",
    "cleanDf['stemmed'] = cleanDf['tokens'].apply(lambda x: [stemmer.stem(word) for word in x])\n",
    "cleanDf"
   ]
  },
  {
   "cell_type": "markdown",
   "id": "9113ecc3-46c0-40fe-8f78-195a92e2c941",
   "metadata": {},
   "source": [
    "<div style=\"background:#FFFFE0;padding:20px;color:#000000;margin-top:10px;\">\n",
    "\n",
    "La lematización convierte la palabra a su forma base de diccionario. Este proceso tiene en cuenta la gramática y el vocabulario de la lengua durante la conversión. Por lo tanto, se diferencia del Stemming en que no se limita a truncar los sufijos para obtener la palabra raíz.\n",
    "\n",
    "</div>"
   ]
  },
  {
   "cell_type": "code",
   "execution_count": 565,
   "id": "358ccbfd-175a-4359-bb2e-b4b699df99bb",
   "metadata": {},
   "outputs": [],
   "source": [
    "# Aplica lematizacion a los tokens\n",
    "def lemmatize(text):\n",
    "    word_net = WordNetLemmatizer()\n",
    "    return [word_net.lemmatize(word) for word in text]\n"
   ]
  },
  {
   "cell_type": "code",
   "execution_count": 566,
   "id": "05a6fbff-4c99-4b50-917f-1ff9c9e1899b",
   "metadata": {},
   "outputs": [
    {
     "data": {
      "text/html": [
       "<div>\n",
       "<style scoped>\n",
       "    .dataframe tbody tr th:only-of-type {\n",
       "        vertical-align: middle;\n",
       "    }\n",
       "\n",
       "    .dataframe tbody tr th {\n",
       "        vertical-align: top;\n",
       "    }\n",
       "\n",
       "    .dataframe thead th {\n",
       "        text-align: right;\n",
       "    }\n",
       "</style>\n",
       "<table border=\"1\" class=\"dataframe\">\n",
       "  <thead>\n",
       "    <tr style=\"text-align: right;\">\n",
       "      <th></th>\n",
       "      <th>lines</th>\n",
       "      <th>tokens</th>\n",
       "      <th>stemmed</th>\n",
       "      <th>dictStemmed</th>\n",
       "    </tr>\n",
       "  </thead>\n",
       "  <tbody>\n",
       "    <tr>\n",
       "      <th>0</th>\n",
       "      <td>scene 1 wind clot clot clot</td>\n",
       "      <td>[scene, 1, wind, clot, clot, clot]</td>\n",
       "      <td>[scene, 1, wind, clot, clot, clot]</td>\n",
       "      <td>[scene, 1, wind, clot, clot, clot]</td>\n",
       "    </tr>\n",
       "    <tr>\n",
       "      <th>1</th>\n",
       "      <td>king arthur whoa there  clot clot clot</td>\n",
       "      <td>[king, arthur, whoa, clot, clot, clot]</td>\n",
       "      <td>[king, arthur, whoa, clot, clot, clot]</td>\n",
       "      <td>[king, arthur, whoa, clot, clot, clot]</td>\n",
       "    </tr>\n",
       "    <tr>\n",
       "      <th>2</th>\n",
       "      <td>soldier 1 halt  who goes there</td>\n",
       "      <td>[soldier, 1, halt, goes]</td>\n",
       "      <td>[soldier, 1, halt, goe]</td>\n",
       "      <td>[soldier, 1, halt, goe]</td>\n",
       "    </tr>\n",
       "    <tr>\n",
       "      <th>3</th>\n",
       "      <td>arthur it is i arthur son of other pendragon f...</td>\n",
       "      <td>[arthur, arthur, son, pendragon, castle, camel...</td>\n",
       "      <td>[arthur, arthur, son, pendragon, castl, cameli...</td>\n",
       "      <td>[arthur, arthur, son, pendragon, castl, cameli...</td>\n",
       "    </tr>\n",
       "    <tr>\n",
       "      <th>4</th>\n",
       "      <td>soldier 1 pull the other one</td>\n",
       "      <td>[soldier, 1, pull, one]</td>\n",
       "      <td>[soldier, 1, pull, one]</td>\n",
       "      <td>[soldier, 1, pull, one]</td>\n",
       "    </tr>\n",
       "  </tbody>\n",
       "</table>\n",
       "</div>"
      ],
      "text/plain": [
       "                                               lines  \\\n",
       "0                       scene 1 wind clot clot clot    \n",
       "1            king arthur whoa there  clot clot clot    \n",
       "2                     soldier 1 halt  who goes there   \n",
       "3  arthur it is i arthur son of other pendragon f...   \n",
       "4                       soldier 1 pull the other one   \n",
       "\n",
       "                                              tokens  \\\n",
       "0                 [scene, 1, wind, clot, clot, clot]   \n",
       "1             [king, arthur, whoa, clot, clot, clot]   \n",
       "2                           [soldier, 1, halt, goes]   \n",
       "3  [arthur, arthur, son, pendragon, castle, camel...   \n",
       "4                            [soldier, 1, pull, one]   \n",
       "\n",
       "                                             stemmed  \\\n",
       "0                 [scene, 1, wind, clot, clot, clot]   \n",
       "1             [king, arthur, whoa, clot, clot, clot]   \n",
       "2                            [soldier, 1, halt, goe]   \n",
       "3  [arthur, arthur, son, pendragon, castl, cameli...   \n",
       "4                            [soldier, 1, pull, one]   \n",
       "\n",
       "                                         dictStemmed  \n",
       "0                 [scene, 1, wind, clot, clot, clot]  \n",
       "1             [king, arthur, whoa, clot, clot, clot]  \n",
       "2                            [soldier, 1, halt, goe]  \n",
       "3  [arthur, arthur, son, pendragon, castl, cameli...  \n",
       "4                            [soldier, 1, pull, one]  "
      ]
     },
     "execution_count": 566,
     "metadata": {},
     "output_type": "execute_result"
    }
   ],
   "source": [
    "# Hacemos llamado a la funcion de arriba.\n",
    "cleanDf['dictStemmed'] = cleanDf['stemmed'].apply(lambda x : lemmatize(x))\n",
    "cleanDf.head()"
   ]
  },
  {
   "cell_type": "code",
   "execution_count": 567,
   "id": "5cbb4a9e-1a14-4db1-9581-50f400d798d4",
   "metadata": {},
   "outputs": [
    {
     "data": {
      "text/html": [
       "<div>\n",
       "<style scoped>\n",
       "    .dataframe tbody tr th:only-of-type {\n",
       "        vertical-align: middle;\n",
       "    }\n",
       "\n",
       "    .dataframe tbody tr th {\n",
       "        vertical-align: top;\n",
       "    }\n",
       "\n",
       "    .dataframe thead th {\n",
       "        text-align: right;\n",
       "    }\n",
       "</style>\n",
       "<table border=\"1\" class=\"dataframe\">\n",
       "  <thead>\n",
       "    <tr style=\"text-align: right;\">\n",
       "      <th></th>\n",
       "      <th>lines</th>\n",
       "      <th>tokens</th>\n",
       "      <th>stemmed</th>\n",
       "      <th>dictStemmed</th>\n",
       "      <th>totalCharacters</th>\n",
       "    </tr>\n",
       "  </thead>\n",
       "  <tbody>\n",
       "    <tr>\n",
       "      <th>0</th>\n",
       "      <td>scene 1 wind clot clot clot</td>\n",
       "      <td>[scene, 1, wind, clot, clot, clot]</td>\n",
       "      <td>[scene, 1, wind, clot, clot, clot]</td>\n",
       "      <td>[scene, 1, wind, clot, clot, clot]</td>\n",
       "      <td>28</td>\n",
       "    </tr>\n",
       "    <tr>\n",
       "      <th>1</th>\n",
       "      <td>king arthur whoa there  clot clot clot</td>\n",
       "      <td>[king, arthur, whoa, clot, clot, clot]</td>\n",
       "      <td>[king, arthur, whoa, clot, clot, clot]</td>\n",
       "      <td>[king, arthur, whoa, clot, clot, clot]</td>\n",
       "      <td>39</td>\n",
       "    </tr>\n",
       "    <tr>\n",
       "      <th>2</th>\n",
       "      <td>soldier 1 halt  who goes there</td>\n",
       "      <td>[soldier, 1, halt, goes]</td>\n",
       "      <td>[soldier, 1, halt, goe]</td>\n",
       "      <td>[soldier, 1, halt, goe]</td>\n",
       "      <td>30</td>\n",
       "    </tr>\n",
       "    <tr>\n",
       "      <th>3</th>\n",
       "      <td>arthur it is i arthur son of other pendragon f...</td>\n",
       "      <td>[arthur, arthur, son, pendragon, castle, camel...</td>\n",
       "      <td>[arthur, arthur, son, pendragon, castl, cameli...</td>\n",
       "      <td>[arthur, arthur, son, pendragon, castl, cameli...</td>\n",
       "      <td>137</td>\n",
       "    </tr>\n",
       "    <tr>\n",
       "      <th>4</th>\n",
       "      <td>soldier 1 pull the other one</td>\n",
       "      <td>[soldier, 1, pull, one]</td>\n",
       "      <td>[soldier, 1, pull, one]</td>\n",
       "      <td>[soldier, 1, pull, one]</td>\n",
       "      <td>28</td>\n",
       "    </tr>\n",
       "  </tbody>\n",
       "</table>\n",
       "</div>"
      ],
      "text/plain": [
       "                                               lines  \\\n",
       "0                       scene 1 wind clot clot clot    \n",
       "1            king arthur whoa there  clot clot clot    \n",
       "2                     soldier 1 halt  who goes there   \n",
       "3  arthur it is i arthur son of other pendragon f...   \n",
       "4                       soldier 1 pull the other one   \n",
       "\n",
       "                                              tokens  \\\n",
       "0                 [scene, 1, wind, clot, clot, clot]   \n",
       "1             [king, arthur, whoa, clot, clot, clot]   \n",
       "2                           [soldier, 1, halt, goes]   \n",
       "3  [arthur, arthur, son, pendragon, castle, camel...   \n",
       "4                            [soldier, 1, pull, one]   \n",
       "\n",
       "                                             stemmed  \\\n",
       "0                 [scene, 1, wind, clot, clot, clot]   \n",
       "1             [king, arthur, whoa, clot, clot, clot]   \n",
       "2                            [soldier, 1, halt, goe]   \n",
       "3  [arthur, arthur, son, pendragon, castl, cameli...   \n",
       "4                            [soldier, 1, pull, one]   \n",
       "\n",
       "                                         dictStemmed  totalCharacters  \n",
       "0                 [scene, 1, wind, clot, clot, clot]               28  \n",
       "1             [king, arthur, whoa, clot, clot, clot]               39  \n",
       "2                            [soldier, 1, halt, goe]               30  \n",
       "3  [arthur, arthur, son, pendragon, castl, cameli...              137  \n",
       "4                            [soldier, 1, pull, one]               28  "
      ]
     },
     "execution_count": 567,
     "metadata": {},
     "output_type": "execute_result"
    }
   ],
   "source": [
    "cleanDf['totalCharacters'] = cleanDf['lines'].str.len()\n",
    "cleanDf.head()"
   ]
  },
  {
   "cell_type": "markdown",
   "id": "97566f96-a7bf-4c09-b4da-c4b25d6b7356",
   "metadata": {},
   "source": [
    "<div style=\"background:#FFFFE0;padding:20px;color:#000000;margin-top:10px;\">\n",
    "\n",
    "Los algoritmos informáticos, incluidos los modelos de IA/ML, no entienden el lenguaje humano, sino los números, por lo que necesitamos convertir nuestros vectores de palabras en representaciones numéricas, comúnmente conocidas como vectores de incrustación, o simplemente incrustación. El siguiente ejemplo convierte texto tokenizado en la columna “dictStemmed” y utiliza un enfoque de vectorización TF-IDF para transformar el texto en representaciones numéricas.\n",
    "\n",
    "</div>"
   ]
  },
  {
   "cell_type": "code",
   "execution_count": 568,
   "id": "4e627c7f-1b0f-4b7a-9af4-5dfa2b0cedd0",
   "metadata": {},
   "outputs": [],
   "source": [
    "# crear oraciones para hacer text limpio\n",
    "def return_sentences(tokens):\n",
    "    return \" \".join([word for word in tokens])"
   ]
  },
  {
   "cell_type": "code",
   "execution_count": 569,
   "id": "0f2163ee-4753-47f5-aac5-f346051f0acb",
   "metadata": {},
   "outputs": [
    {
     "data": {
      "text/html": [
       "<div>\n",
       "<style scoped>\n",
       "    .dataframe tbody tr th:only-of-type {\n",
       "        vertical-align: middle;\n",
       "    }\n",
       "\n",
       "    .dataframe tbody tr th {\n",
       "        vertical-align: top;\n",
       "    }\n",
       "\n",
       "    .dataframe thead th {\n",
       "        text-align: right;\n",
       "    }\n",
       "</style>\n",
       "<table border=\"1\" class=\"dataframe\">\n",
       "  <thead>\n",
       "    <tr style=\"text-align: right;\">\n",
       "      <th></th>\n",
       "      <th>lines</th>\n",
       "      <th>tokens</th>\n",
       "      <th>stemmed</th>\n",
       "      <th>dictStemmed</th>\n",
       "      <th>totalCharacters</th>\n",
       "      <th>cleanText</th>\n",
       "    </tr>\n",
       "  </thead>\n",
       "  <tbody>\n",
       "    <tr>\n",
       "      <th>0</th>\n",
       "      <td>scene 1 wind clot clot clot</td>\n",
       "      <td>[scene, 1, wind, clot, clot, clot]</td>\n",
       "      <td>[scene, 1, wind, clot, clot, clot]</td>\n",
       "      <td>[scene, 1, wind, clot, clot, clot]</td>\n",
       "      <td>28</td>\n",
       "      <td>scene 1 wind clot clot clot</td>\n",
       "    </tr>\n",
       "    <tr>\n",
       "      <th>1</th>\n",
       "      <td>king arthur whoa there  clot clot clot</td>\n",
       "      <td>[king, arthur, whoa, clot, clot, clot]</td>\n",
       "      <td>[king, arthur, whoa, clot, clot, clot]</td>\n",
       "      <td>[king, arthur, whoa, clot, clot, clot]</td>\n",
       "      <td>39</td>\n",
       "      <td>king arthur whoa clot clot clot</td>\n",
       "    </tr>\n",
       "    <tr>\n",
       "      <th>2</th>\n",
       "      <td>soldier 1 halt  who goes there</td>\n",
       "      <td>[soldier, 1, halt, goes]</td>\n",
       "      <td>[soldier, 1, halt, goe]</td>\n",
       "      <td>[soldier, 1, halt, goe]</td>\n",
       "      <td>30</td>\n",
       "      <td>soldier 1 halt goe</td>\n",
       "    </tr>\n",
       "    <tr>\n",
       "      <th>3</th>\n",
       "      <td>arthur it is i arthur son of other pendragon f...</td>\n",
       "      <td>[arthur, arthur, son, pendragon, castle, camel...</td>\n",
       "      <td>[arthur, arthur, son, pendragon, castl, cameli...</td>\n",
       "      <td>[arthur, arthur, son, pendragon, castl, cameli...</td>\n",
       "      <td>137</td>\n",
       "      <td>arthur arthur son pendragon castl camelia king...</td>\n",
       "    </tr>\n",
       "    <tr>\n",
       "      <th>4</th>\n",
       "      <td>soldier 1 pull the other one</td>\n",
       "      <td>[soldier, 1, pull, one]</td>\n",
       "      <td>[soldier, 1, pull, one]</td>\n",
       "      <td>[soldier, 1, pull, one]</td>\n",
       "      <td>28</td>\n",
       "      <td>soldier 1 pull one</td>\n",
       "    </tr>\n",
       "  </tbody>\n",
       "</table>\n",
       "</div>"
      ],
      "text/plain": [
       "                                               lines  \\\n",
       "0                       scene 1 wind clot clot clot    \n",
       "1            king arthur whoa there  clot clot clot    \n",
       "2                     soldier 1 halt  who goes there   \n",
       "3  arthur it is i arthur son of other pendragon f...   \n",
       "4                       soldier 1 pull the other one   \n",
       "\n",
       "                                              tokens  \\\n",
       "0                 [scene, 1, wind, clot, clot, clot]   \n",
       "1             [king, arthur, whoa, clot, clot, clot]   \n",
       "2                           [soldier, 1, halt, goes]   \n",
       "3  [arthur, arthur, son, pendragon, castle, camel...   \n",
       "4                            [soldier, 1, pull, one]   \n",
       "\n",
       "                                             stemmed  \\\n",
       "0                 [scene, 1, wind, clot, clot, clot]   \n",
       "1             [king, arthur, whoa, clot, clot, clot]   \n",
       "2                            [soldier, 1, halt, goe]   \n",
       "3  [arthur, arthur, son, pendragon, castl, cameli...   \n",
       "4                            [soldier, 1, pull, one]   \n",
       "\n",
       "                                         dictStemmed  totalCharacters  \\\n",
       "0                 [scene, 1, wind, clot, clot, clot]               28   \n",
       "1             [king, arthur, whoa, clot, clot, clot]               39   \n",
       "2                            [soldier, 1, halt, goe]               30   \n",
       "3  [arthur, arthur, son, pendragon, castl, cameli...              137   \n",
       "4                            [soldier, 1, pull, one]               28   \n",
       "\n",
       "                                           cleanText  \n",
       "0                        scene 1 wind clot clot clot  \n",
       "1                    king arthur whoa clot clot clot  \n",
       "2                                 soldier 1 halt goe  \n",
       "3  arthur arthur son pendragon castl camelia king...  \n",
       "4                                 soldier 1 pull one  "
      ]
     },
     "execution_count": 569,
     "metadata": {},
     "output_type": "execute_result"
    }
   ],
   "source": [
    "cleanDf['cleanText'] = cleanDf['dictStemmed'].apply(lambda x : return_sentences(x))\n",
    "cleanDf.head()"
   ]
  },
  {
   "cell_type": "markdown",
   "id": "f32a853f-45e8-4c78-8723-fe3f042929ba",
   "metadata": {},
   "source": [
    "<div style=\"background:#FFFFE0;padding:20px;color:#000000;margin-top:10px;\">\n",
    "\n",
    "TF-IDF : Frecuencia de términos - Frecuencia inversa de documentos\n",
    "\n",
    "La frecuencia de términos es el número de veces que un término aparece en un documento. La frecuencia inversa de documentos es una función inversa del número de documentos en los que aparece una palabra determinada.\n",
    "\n",
    "El producto de estos dos términos da el peso tf-idf de una palabra en el corpus. Cuanto mayor sea la frecuencia de aparición de una palabra, menor será su peso y viceversa. Esto da más peso a los términos poco frecuentes en el corpus y penaliza a los términos más frecuentes.\n",
    "\n",
    "Otro vectorizador muy utilizado es el Count vectorizer, que sólo tiene en cuenta la frecuencia de aparición de una palabra en el corpus.\n",
    "</div>"
   ]
  },
  {
   "cell_type": "code",
   "execution_count": 570,
   "id": "a0e69581-0e20-430a-8f76-000c8658b9ca",
   "metadata": {},
   "outputs": [
    {
     "data": {
      "text/plain": [
       "(1192, 1378)"
      ]
     },
     "execution_count": 570,
     "metadata": {},
     "output_type": "execute_result"
    }
   ],
   "source": [
    "tfidf = TfidfVectorizer()\n",
    "tfidfVect = tfidf.fit_transform(cleanDf['cleanText'])\n",
    "tfidfVect.shape"
   ]
  },
  {
   "cell_type": "code",
   "execution_count": 571,
   "id": "cfe7793b-d8d7-4874-8980-94d02a16c2ed",
   "metadata": {},
   "outputs": [
    {
     "data": {
      "text/plain": [
       "array(['10', '11', '12', ..., 'you', 'young', 'zone'],\n",
       "      shape=(1378,), dtype=object)"
      ]
     },
     "execution_count": 571,
     "metadata": {},
     "output_type": "execute_result"
    }
   ],
   "source": [
    "tfidf.get_feature_names_out()"
   ]
  },
  {
   "cell_type": "code",
   "execution_count": 572,
   "id": "9351556b-d2c3-4dff-906a-ea926fa3c9ea",
   "metadata": {},
   "outputs": [
    {
     "data": {
      "image/png": "[encoded data removed]",
      "text/plain": [
       "<Figure size 1200x600 with 1 Axes>"
      ]
     },
     "metadata": {},
     "output_type": "display_data"
    }
   ],
   "source": [
    "# Aplanar la columna 'dictStemmed'\n",
    "cleanWords = [word for row in cleanDf['dictStemmed'] for word in row]\n",
    "\n",
    "# Calcular frecuencias con FreqDist\n",
    "freqWords = nltk.FreqDist(all_stemmed_words)\n",
    "\n",
    "# Filtrar las más frecuentes\n",
    "frequent_words = [[freqWords[word], word] for word in set(cleanWords) if freqWords[word] >= 30]\n",
    "\n",
    "# Ordenar las palabras por frecuencia\n",
    "sorted_word_frequencies = {}\n",
    "for item in sorted(frequent_words):\n",
    "    sorted_word_frequencies[item[1]] = item[0]\n",
    "\n",
    "# Graficar\n",
    "plt.figure(figsize=(12, 6))\n",
    "plt.bar(range(len(sorted_word_frequencies)), list(sorted_word_frequencies.values()), align='center')\n",
    "plt.xticks(range(len(sorted_word_frequencies)), list(sorted_word_frequencies.keys()), rotation=80)\n",
    "plt.title(\"Words vs Count of Occurrences\", fontsize=18)\n",
    "plt.xlabel(\"Words\", fontsize=18)\n",
    "plt.ylabel(\"Word Frequency\", fontsize=18)\n",
    "plt.tight_layout()\n",
    "plt.show()\n"
   ]
  },
  {
   "cell_type": "markdown",
   "id": "1aa4a635-374c-434a-8169-f337d59f41b3",
   "metadata": {},
   "source": [
    "<div style=\"background:#FFFFE0;padding:20px;color:#000000;margin-top:10px;\">\n",
    "En este apartado se trabajó en la limpieza y normalización del texto, lo cual incluyó la tokenización, la eliminación de palabras vacías (stopwords), puntuación y también la lematización,entre otros. Creo que esto es fundamental porque antes de aplicar cualquier tipo de análisis textual, es necesario reducir el ruido del lenguaje natural. Por ejemplo, palabras como “the”, “is” o “and” se repiten muchísimo pero no aportan contenido relevante. Además, al lematizar, se agrupan palabras similares bajo una misma raíz (como “running” y “ran” a “run”), lo que mejora mucho la representación semántica del texto. Esto permite que las estadísticas posteriores y los modelos de análisis funcionen sobre datos más representativos y compactos.\n",
    "\n",
    "\n",
    "\n",
    "\n",
    "\n",
    "Ademas, se pudo verificar la frecuencia de las palabras gracias a que la data estaba limpia.\n",
    "</div>"
   ]
  },
  {
   "cell_type": "markdown",
   "id": "68574439",
   "metadata": {},
   "source": [
    "## 4. Contando palabras por su connotación emocional\n",
    "### Puntuación máxima de la tarea: 2\n",
    "#### Investigue acerca del corpus opinion_lexicon del NLTK y úselo para identificar las palabras con connotaciones positivas y negativas que aparecen en los textos. Siéntase libre de mostrar estadísticas y gráficos de su elección para ilustrar mejor este aspecto de sus datos (Ej. Totales for tipo, palabra más popular por tipo, entre otros)"
   ]
  },
  {
   "cell_type": "code",
   "execution_count": 573,
   "id": "15f9e587",
   "metadata": {},
   "outputs": [],
   "source": [
    "# Recoger las palabras en sets \n",
    "positives = set(opinion_lexicon.positive())\n",
    "negatives = set(opinion_lexicon.negative())\n"
   ]
  },
  {
   "cell_type": "code",
   "execution_count": 574,
   "id": "e9a3c241-2fc2-47f9-88e5-26c108a85413",
   "metadata": {},
   "outputs": [
    {
     "data": {
      "text/plain": [
       "['scene',\n",
       " '1',\n",
       " 'wind',\n",
       " 'clot',\n",
       " 'clot',\n",
       " 'clot',\n",
       " 'king',\n",
       " 'arthur',\n",
       " 'whoa',\n",
       " 'clot',\n",
       " 'clot',\n",
       " 'clot',\n",
       " 'soldier',\n",
       " '1',\n",
       " 'halt',\n",
       " 'goe',\n",
       " 'arthur',\n",
       " 'arthur',\n",
       " 'son',\n",
       " 'pendragon']"
      ]
     },
     "execution_count": 574,
     "metadata": {},
     "output_type": "execute_result"
    }
   ],
   "source": [
    "# verificamos los tokens que tenemos\n",
    "cleanWords[0:20]"
   ]
  },
  {
   "cell_type": "code",
   "execution_count": 575,
   "id": "17b4dc7e-5b3b-46ad-82e1-915b532037b8",
   "metadata": {},
   "outputs": [],
   "source": [
    "# Ahora lo que hacemos es una lista de tokens positivos y otra lista de tokens negativos.\n",
    "positivesTokens = [word for word in cleanWords if word in positives]\n",
    "negativeTokens = [word for word in cleanWords if word in negatives]"
   ]
  },
  {
   "cell_type": "code",
   "execution_count": 576,
   "id": "74b1cdca-1238-4b1f-896e-837b38bbbbc3",
   "metadata": {},
   "outputs": [
    {
     "data": {
      "text/html": [
       "<div>\n",
       "<style scoped>\n",
       "    .dataframe tbody tr th:only-of-type {\n",
       "        vertical-align: middle;\n",
       "    }\n",
       "\n",
       "    .dataframe tbody tr th {\n",
       "        vertical-align: top;\n",
       "    }\n",
       "\n",
       "    .dataframe thead th {\n",
       "        text-align: right;\n",
       "    }\n",
       "</style>\n",
       "<table border=\"1\" class=\"dataframe\">\n",
       "  <thead>\n",
       "    <tr style=\"text-align: right;\">\n",
       "      <th></th>\n",
       "      <th>Tipo</th>\n",
       "      <th>Total por Tipo</th>\n",
       "    </tr>\n",
       "  </thead>\n",
       "  <tbody>\n",
       "    <tr>\n",
       "      <th>0</th>\n",
       "      <td>Positivas</td>\n",
       "      <td>375</td>\n",
       "    </tr>\n",
       "    <tr>\n",
       "      <th>1</th>\n",
       "      <td>Negativas</td>\n",
       "      <td>305</td>\n",
       "    </tr>\n",
       "  </tbody>\n",
       "</table>\n",
       "</div>"
      ],
      "text/plain": [
       "        Tipo  Total por Tipo\n",
       "0  Positivas             375\n",
       "1  Negativas             305"
      ]
     },
     "execution_count": 576,
     "metadata": {},
     "output_type": "execute_result"
    }
   ],
   "source": [
    "# Veamos datos interesantes como totales por tipo\n",
    "dfFrequency = pd.DataFrame({'Tipo': ['Positivas', 'Negativas'], 'Total por Tipo': [sum(1 for word in cleanWords if word in positives), sum(1 for word in cleanWords if word in negatives)]})\n",
    "dfFrequency"
   ]
  },
  {
   "cell_type": "code",
   "execution_count": 577,
   "id": "46e399fe-2c6d-4d1d-a88a-a3e421bf3741",
   "metadata": {},
   "outputs": [
    {
     "name": "stdout",
     "output_type": "stream",
     "text": [
      "La palabra mas popular de las positivas es: well\n",
      "La palabra mas popular de las negativas es: burn\n"
     ]
    }
   ],
   "source": [
    "# Continuacion de datos importantes\n",
    "positiveData = nltk.FreqDist(positivesTokens)\n",
    "negativeData = nltk.FreqDist(negativeTokens)\n",
    "\n",
    "# Mas popular entre tipo\n",
    "print(f'La palabra mas popular de las positivas es: {positiveData.max()}')\n",
    "print(f'La palabra mas popular de las negativas es: {negativeData.max()}')"
   ]
  },
  {
   "cell_type": "code",
   "execution_count": 578,
   "id": "14b7c903-a0a7-4550-832e-8a24abd581d3",
   "metadata": {},
   "outputs": [
    {
     "data": {
      "text/plain": [
       "<Axes: ylabel='Total por Tipo'>"
      ]
     },
     "execution_count": 578,
     "metadata": {},
     "output_type": "execute_result"
    },
    {
     "data": {
      "image/png": "[encoded data removed]",
      "text/plain": [
       "<Figure size 640x480 with 1 Axes>"
      ]
     },
     "metadata": {},
     "output_type": "display_data"
    }
   ],
   "source": [
    "dfFrequency.plot.pie(y='Total por Tipo', labels=dfFrequency['Tipo'], autopct='%1.1f%%')"
   ]
  },
  {
   "cell_type": "markdown",
   "id": "9ee01c3a-5eec-4ce1-ba9c-8f62981b25c4",
   "metadata": {},
   "source": [
    "<div style=\"background:#FFFFE0;padding:20px;color:#000000;margin-top:10px;\">\n",
    "En este apartado se midió si lo que se dice en el texto es positivo o negativo, y qué tan personal u objetivo parece. Creo que esto es útil porque no solo importa qué palabras se usan, sino el tono con el que se dicen. Por ejemplo, no es lo mismo decir “qué bien” que “qué mal”. Me pareció interesante ver cómo se puede detectar ese tipo de emociones desde el texto, y es algo que se puede aplicar en muchas situaciones.\n",
    "\n",
    "</div>"
   ]
  },
  {
   "cell_type": "markdown",
   "id": "c5ed094c",
   "metadata": {},
   "source": [
    "## 5. Wordnet\n",
    "### Puntuación máxima de la tarea: 4\n",
    "#### Investigue sobre el corpus Wordnet, disponible en NLTK. Desarrolle una función en Python que reciba  un conjunto de textos y, usando  Wordnet, devuelva en una única estructura de su elección, los diferentes synsets de cada palabra de acuerdo a la función que ejerce en el texto (sea sustantivo, verbo, adjetivo o adverbio). Pruebe dicha función sobre el conjunto de datos. "
   ]
  },
  {
   "cell_type": "code",
   "execution_count": 579,
   "id": "f5b8d841-f78c-4095-8a23-e70a1f568923",
   "metadata": {},
   "outputs": [],
   "source": [
    "# Mapeamos etiquetas de pos_tag a WordNet\n",
    "def get_wordnet_pos(tag):\n",
    "    if tag.startswith('J'):\n",
    "        return wordnet.ADJ\n",
    "    elif tag.startswith('V'):\n",
    "        return wordnet.VERB\n",
    "    elif tag.startswith('N'):\n",
    "        return wordnet.NOUN\n",
    "    elif tag.startswith('R'):\n",
    "        return wordnet.ADV\n",
    "    else:\n",
    "        return None\n",
    "\n",
    "# Función para obtener synsets de cada palabra en cada línea\n",
    "def get_synsets_from_texts(texts):\n",
    "    result = []\n",
    "    for line in texts:\n",
    "        line_data = {}\n",
    "        tokens = nltk.word_tokenize(line)\n",
    "        tagged = nltk.pos_tag(tokens)\n",
    "        for word, tag in tagged:\n",
    "            wn_tag = get_wordnet_pos(tag)\n",
    "            # print(wn_tag)\n",
    "            if wn_tag:\n",
    "                synsets = wordnet.synsets(word, pos=wn_tag)\n",
    "                line_data[word] = synsets\n",
    "        result.append(line_data)\n",
    "    return result\n"
   ]
  },
  {
   "cell_type": "code",
   "execution_count": 580,
   "id": "18603c58-0225-4e7f-a065-d9b2bc0682a3",
   "metadata": {},
   "outputs": [],
   "source": [
    "# Aplicamos sobre el dataset\n",
    "synsets_per_line = get_synsets_from_texts(cleanDf['lines'])"
   ]
  },
  {
   "cell_type": "code",
   "execution_count": 581,
   "id": "8f56f23e-84b2-4b4f-bd4c-201d51b32bb0",
   "metadata": {},
   "outputs": [
    {
     "data": {
      "text/plain": [
       "{'soldier': [],\n",
       " 'halt': [Synset('arrest.n.02'), Synset('stop.n.01'), Synset('freeze.n.03')],\n",
       " 'goes': [Synset('travel.v.01'),\n",
       "  Synset('go.v.02'),\n",
       "  Synset('go.v.03'),\n",
       "  Synset('become.v.01'),\n",
       "  Synset('go.v.05'),\n",
       "  Synset('run.v.05'),\n",
       "  Synset('run.v.03'),\n",
       "  Synset('proceed.v.04'),\n",
       "  Synset('go.v.09'),\n",
       "  Synset('go.v.10'),\n",
       "  Synset('sound.v.02'),\n",
       "  Synset('function.v.01'),\n",
       "  Synset('run_low.v.01'),\n",
       "  Synset('move.v.13'),\n",
       "  Synset('survive.v.01'),\n",
       "  Synset('go.v.16'),\n",
       "  Synset('die.v.01'),\n",
       "  Synset('belong.v.03'),\n",
       "  Synset('go.v.19'),\n",
       "  Synset('start.v.09'),\n",
       "  Synset('move.v.15'),\n",
       "  Synset('go.v.22'),\n",
       "  Synset('go.v.23'),\n",
       "  Synset('blend.v.02'),\n",
       "  Synset('go.v.25'),\n",
       "  Synset('fit.v.02'),\n",
       "  Synset('rifle.v.02'),\n",
       "  Synset('go.v.28'),\n",
       "  Synset('plump.v.04'),\n",
       "  Synset('fail.v.04')],\n",
       " 'there': [Synset('there.r.01'), Synset('there.r.02'), Synset('there.r.03')]}"
      ]
     },
     "execution_count": 581,
     "metadata": {},
     "output_type": "execute_result"
    }
   ],
   "source": [
    "# Ejemplo: ver synsets de la primera línea\n",
    "synsets_per_line[2]"
   ]
  },
  {
   "cell_type": "markdown",
   "id": "ee462335-d596-4f7c-b04f-382700f612c2",
   "metadata": {},
   "source": [
    "<div style=\"background:#FFFFE0;padding:20px;color:#000000;margin-top:10px;\">\n",
    "Aquí se utilizó una herramienta llamada WordNet para buscar los posibles significados de cada palabra según el tipo que sea (como sustantivo, verbo, adjetivo o adverbio). Se hizo una función que analiza cada línea de texto y guarda los significados más relacionados con la función que tiene la palabra. Creo que esto es fundamental porque a veces una misma palabra puede tener varios sentidos, y poder ver esos sentidos ayuda a entender mejor lo que se está leyendo. Aunque es un tema nuevo, me pareció interesante porque acerca el análisis de texto a algo más parecido a cómo entendemos el lenguaje las personas.\n",
    "\n",
    "\n",
    "</div>"
   ]
  },
  {
   "cell_type": "markdown",
   "id": "895f2a3f-f75a-447e-95e6-85aae1806952",
   "metadata": {},
   "source": [
    "<div style=\"background:#FFFFE0;padding:20px;color:#000000;margin-top:10px;\">\n",
    "<strong>Referencias Bibliográficas</strong>\n",
    "<br><br>\n",
    "Para esta referencia bibliográfica adjunto unos recursos que fueron de grata ayuda.\n",
    "\n",
    "- [Text Processing NLP Pipeline - GitHub](https://github.com/Shubha23/Text-processing-NLP/blob/master/NLP%20-%20Text%20processing%20pipeline.ipynb)\n",
    "- [How to Clean & Preprocess Text Data Using Pandas for NLP Tasks - LinkedIn](https://www.linkedin.com/pulse/how-clean-preprocess-text-data-using-pandas-nlp-tasks-yamil-garcia-gk7re/)\n",
    "- [Cleaning and Preprocessing Text Data in Pandas for NLP Tasks - KDnuggets](https://www.kdnuggets.com/cleaning-and-preprocessing-text-data-in-pandas-for-nlp-tasks)\n",
    "- [Pandas on NLP Data - Kaggle](https://www.kaggle.com/code/campusx/pandas-on-nlp-data)\n",
    "- [Pandas DataFrame Pie Plot - Pandas Documentation](https://pandas.pydata.org/docs/reference/api/pandas.DataFrame.plot.pie.html)\n",
    "- [Pandas Plotting - W3Schools](https://www.w3schools.com/python/pandas/pandas_plotting.asp)\n",
    "- [TextBlob Spelling Correction - Documentation](https://textblob.readthedocs.io/en/dev/quickstart.html#spelling-correction)\n",
    "- [TfidfVectorizer - scikit-learn Documentation](https://scikit-learn.org/stable/modules/generated/sklearn.feature_extraction.text.TfidfVectorizer.html)\n",
    "- [FreqDist - NLTK Documentation](https://www.nltk.org/api/nltk.probability.FreqDist.html)\n",
    "\n",
    "\n",
    "\n",
    "</div>"
   ]
  }
 ],
 "metadata": {
  "kernelspec": {
   "display_name": "Python 3 (ipykernel)",
   "language": "python",
   "name": "python3"
  },
  "language_info": {
   "codemirror_mode": {
    "name": "ipython",
    "version": 3
   },
   "file_extension": ".py",
   "mimetype": "text/x-python",
   "name": "python",
   "nbconvert_exporter": "python",
   "pygments_lexer": "ipython3",
   "version": "3.13.3"
  }
 },
 "nbformat": 4,
 "nbformat_minor": 5
}
